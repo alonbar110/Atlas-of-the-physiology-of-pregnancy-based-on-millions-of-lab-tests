{
 "cells": [
  {
   "cell_type": "code",
   "execution_count": 1,
   "id": "c8b731ea",
   "metadata": {},
   "outputs": [],
   "source": [
    "import numpy as np\n",
    "import pandas as pd\n",
    "import pickle\n",
    "import matplotlib.pyplot as plt\n",
    "import matplotlib.patches as mpatches\n",
    "import matplotlib.lines as mlines\n",
    "import warnings\n",
    "import matplotlib.cbook\n",
    "import matplotlib as mpl\n",
    "import matplotlib.image as mpimg\n",
    "import time\n",
    "import itertools\n",
    "import seaborn as sns\n",
    "import os\n",
    "import json\n",
    "from sympy import *\n",
    "from scipy.integrate import odeint\n",
    "from scipy.interpolate import interp1d\n",
    "from scipy.fftpack import rfft,fft,fftfreq,rfftfreq\n",
    "from scipy.signal import medfilt, find_peaks\n",
    "from scipy.io import loadmat\n",
    "from scipy import stats\n",
    "from statsmodels.stats.multitest import fdrcorrection\n",
    "from matplotlib.lines import Line2D\n",
    "from mpl_toolkits.axes_grid1.inset_locator import inset_axes\n",
    "from sklearn.linear_model import LinearRegression\n",
    "from scipy.optimize import curve_fit,brute,basinhopping\n",
    "import matplotlib.gridspec as gridspec\n",
    "from sklearn.decomposition import PCA, NMF\n",
    "from sklearn.cluster import KMeans\n",
    "import math\n",
    "from itertools import combinations\n",
    "import matplotlib.cm as cm\n",
    "from sklearn.manifold import TSNE\n",
    "from string import ascii_uppercase as abc; abc = abc\n",
    "try:\n",
    "    from tqdm.notebook import tqdm\n",
    "except:\n",
    "    from tqdm import tqdm_notebook as tqdm\n",
    "from matplotlib.axes._axes import _log as matplotlib_axes_logger\n",
    "from itertools import compress, product\n",
    "import random\n",
    "from scipy.interpolate import InterpolatedUnivariateSpline as spline_interp\n",
    "import warnings\n",
    "warnings.filterwarnings(\"ignore\")\n",
    "import matplotlib.patheffects as PathEffects\n",
    "matplotlib_axes_logger.setLevel('ERROR')\n",
    "np.seterr(divide='ignore', invalid='ignore')\n",
    "\n",
    "def_color  = [x['color'] for x in plt.rcParams['axes.prop_cycle']]\n",
    "\n",
    "init_printing()\n",
    "plt.rc('font', size=8) \n",
    "plt.rc('xtick', labelsize=8) \n",
    "plt.rc('ytick', labelsize=8) \n",
    "plt.rc('axes', titlesize=8) \n",
    "matplotlib.rcParams[\"figure.dpi\"] = 100\n",
    "        \n",
    "def to_dict(keys,values):\n",
    "    return dict(zip(keys,values))\n"
   ]
  },
  {
   "cell_type": "code",
   "execution_count": 12,
   "id": "6256ee7b",
   "metadata": {},
   "outputs": [
    {
     "data": {
      "text/latex": [
       "$\\displaystyle \\left[\\begin{matrix}\\frac{d}{d t} \\operatorname{x_{1}}{\\left(t \\right)} = - a_{1} \\operatorname{x_{1}}{\\left(t \\right)} + \\frac{b_{1}}{\\operatorname{x_{3}}{\\left(t \\right)}}\\\\\\frac{d}{d t} \\operatorname{x_{2}}{\\left(t \\right)} = - a_{2} \\operatorname{x_{2}}{\\left(t \\right)} + \\frac{b_{2} \\operatorname{M_{1}}{\\left(t \\right)} \\operatorname{x_{1}}{\\left(t \\right)}}{\\operatorname{x_{3}}{\\left(t \\right)}}\\\\\\frac{d}{d t} \\operatorname{x_{3}}{\\left(t \\right)} = - a_{3} \\operatorname{x_{3}}{\\left(t \\right)} + b_{3} \\operatorname{M_{2}}{\\left(t \\right)} \\operatorname{x_{2}}{\\left(t \\right)}\\\\\\frac{d}{d t} \\operatorname{M_{1}}{\\left(t \\right)} = \\left(\\frac{c_{1}}{\\operatorname{x_{3}}{\\left(t \\right)}} - d_{1}\\right) \\operatorname{M_{1}}{\\left(t \\right)}\\\\\\frac{d}{d t} \\operatorname{M_{2}}{\\left(t \\right)} = \\left(c_{2} \\operatorname{x_{2}}{\\left(t \\right)} - d_{2}\\right) \\operatorname{M_{2}}{\\left(t \\right)}\\end{matrix}\\right]$"
      ],
      "text/plain": [
       "⎡    d                         b₁      ⎤\n",
       "⎢    ──(x₁(t)) = -a₁⋅x₁(t) + ─────     ⎥\n",
       "⎢    dt                      x₃(t)     ⎥\n",
       "⎢                                      ⎥\n",
       "⎢d                       b₂⋅M₁(t)⋅x₁(t)⎥\n",
       "⎢──(x₂(t)) = -a₂⋅x₂(t) + ──────────────⎥\n",
       "⎢dt                          x₃(t)     ⎥\n",
       "⎢                                      ⎥\n",
       "⎢d                                     ⎥\n",
       "⎢──(x₃(t)) = -a₃⋅x₃(t) + b₃⋅M₂(t)⋅x₂(t)⎥\n",
       "⎢dt                                    ⎥\n",
       "⎢                                      ⎥\n",
       "⎢    d           ⎛  c₁      ⎞          ⎥\n",
       "⎢    ──(M₁(t)) = ⎜───── - d₁⎟⋅M₁(t)    ⎥\n",
       "⎢    dt          ⎝x₃(t)     ⎠          ⎥\n",
       "⎢                                      ⎥\n",
       "⎢  d                                   ⎥\n",
       "⎢  ──(M₂(t)) = (c₂⋅x₂(t) - d₂)⋅M₂(t)   ⎥\n",
       "⎣  dt                                  ⎦"
      ]
     },
     "metadata": {},
     "output_type": "display_data"
    }
   ],
   "source": [
    "x1,x2,x3,m1,m2,a1,a2,a3,b1,b2,b3,c1,c2,d1,d2 = symbols('x_1,x_2,x_3,m_1,m_2,a_1,a_2,a_3,b_1,b_2,b_3,c_1,c_2,d_1,d_2',positive=True)\n",
    "t,a_p,a_t,p= symbols('t,a_P,a_T,p' ,positive=True)\n",
    "\n",
    "X1       = Function('x_1',positive=True)(t)\n",
    "X2       = Function('x_2',positive=True)(t)\n",
    "X3       = Function('x_3',positive=True)(t)\n",
    "M1       = Function('M_1',positive=True)(t)\n",
    "M2       = Function('M_2',positive=True)(t)\n",
    "\n",
    "dx1      = b1/X3       - a1*X1  \n",
    "dx2      = b2*M1*X1/X3 - a2*X2       \n",
    "dx3      = b3*M2*X2    - a3*X3    \n",
    "dm1      = M1*(c1/X3   - d1)\n",
    "dm2      = M2*(c2*X2   - d2)\n",
    "\n",
    "deqs     = Matrix([Eq(X1.diff(t), dx1),\n",
    "                   Eq(X2.diff(t), dx2),\n",
    "                   Eq(X3.diff(t), dx3),\n",
    "                   Eq(M1.diff(t), dm1),\n",
    "                   Eq(M2.diff(t), dm2)])\n",
    "\n",
    "display(deqs)"
   ]
  },
  {
   "cell_type": "code",
   "execution_count": 13,
   "id": "0fab005d",
   "metadata": {},
   "outputs": [
    {
     "data": {
      "image/png": "[encoded data removed]",
      "text/latex": [
       "$\\displaystyle \\left\\{ \\operatorname{M_{1}}{\\left(t \\right)} : 1, \\  \\operatorname{M_{2}}{\\left(t \\right)} : 1, \\  \\operatorname{x_{1}}{\\left(t \\right)} : 1, \\  \\operatorname{x_{2}}{\\left(t \\right)} : 1, \\  \\operatorname{x_{3}}{\\left(t \\right)} : 1\\right\\}$"
      ],
      "text/plain": [
       "{M₁(t): 1, M₂(t): 1, x₁(t): 1, x₂(t): 1, x₃(t): 1}"
      ]
     },
     "metadata": {},
     "output_type": "display_data"
    }
   ],
   "source": [
    "simp = {a1:b1,a2:b2,a3:b3,c1:d1,c2:d2,d1:a_p,d2:a_t}\n",
    "stst = to_dict([X1,X2,X3,M1,M2],solve(Matrix([dx1,dx2,dx3,dm1,dm2]).subs(simp),[X1,X2,X3,M1,M2])[0])\n",
    "display(stst)"
   ]
  },
  {
   "cell_type": "code",
   "execution_count": 14,
   "id": "e0f65e81",
   "metadata": {},
   "outputs": [
    {
     "data": {
      "text/latex": [
       "$\\displaystyle \\left[\\begin{matrix}\\frac{d}{d t} \\operatorname{x_{1}}{\\left(t \\right)} = - b_{1} \\left(\\operatorname{x_{1}}{\\left(t \\right)} - 1\\right) - b_{1} \\left(\\operatorname{x_{3}}{\\left(t \\right)} - 1\\right)\\\\\\frac{d}{d t} \\operatorname{x_{2}}{\\left(t \\right)} = b_{2} \\left(\\operatorname{M_{1}}{\\left(t \\right)} - 1\\right) + b_{2} \\left(\\operatorname{x_{1}}{\\left(t \\right)} - 1\\right) - b_{2} \\left(\\operatorname{x_{2}}{\\left(t \\right)} - 1\\right) - b_{2} \\left(\\operatorname{x_{3}}{\\left(t \\right)} - 1\\right)\\\\\\frac{d}{d t} \\operatorname{x_{3}}{\\left(t \\right)} = b_{3} \\left(\\operatorname{M_{2}}{\\left(t \\right)} - 1\\right) + b_{3} \\left(\\operatorname{x_{2}}{\\left(t \\right)} - 1\\right) - b_{3} \\left(\\operatorname{x_{3}}{\\left(t \\right)} - 1\\right)\\\\\\frac{d}{d t} \\operatorname{M_{1}}{\\left(t \\right)} = - a_{P} \\left(\\operatorname{x_{3}}{\\left(t \\right)} - 1\\right)\\\\\\frac{d}{d t} \\operatorname{M_{2}}{\\left(t \\right)} = a_{T} \\left(\\operatorname{x_{2}}{\\left(t \\right)} - 1\\right)\\end{matrix}\\right]$"
      ],
      "text/plain": [
       "⎡                d                                                            \n",
       "⎢                ──(x₁(t)) = -b₁⋅(x₁(t) - 1) - b₁⋅(x₃(t) - 1)                 \n",
       "⎢                dt                                                           \n",
       "⎢                                                                             \n",
       "⎢d                                                                            \n",
       "⎢──(x₂(t)) = b₂⋅(M₁(t) - 1) + b₂⋅(x₁(t) - 1) - b₂⋅(x₂(t) - 1) - b₂⋅(x₃(t) - 1)\n",
       "⎢dt                                                                           \n",
       "⎢                                                                             \n",
       "⎢        d                                                                    \n",
       "⎢        ──(x₃(t)) = b₃⋅(M₂(t) - 1) + b₃⋅(x₂(t) - 1) - b₃⋅(x₃(t) - 1)         \n",
       "⎢        dt                                                                   \n",
       "⎢                                                                             \n",
       "⎢                        d                                                    \n",
       "⎢                        ──(M₁(t)) = -a_P⋅(x₃(t) - 1)                         \n",
       "⎢                        dt                                                   \n",
       "⎢                                                                             \n",
       "⎢                         d                                                   \n",
       "⎢                         ──(M₂(t)) = a_T⋅(x₂(t) - 1)                         \n",
       "⎣                         dt                                                  \n",
       "\n",
       "⎤\n",
       "⎥\n",
       "⎥\n",
       "⎥\n",
       "⎥\n",
       "⎥\n",
       "⎥\n",
       "⎥\n",
       "⎥\n",
       "⎥\n",
       "⎥\n",
       "⎥\n",
       "⎥\n",
       "⎥\n",
       "⎥\n",
       "⎥\n",
       "⎥\n",
       "⎥\n",
       "⎦"
      ]
     },
     "metadata": {},
     "output_type": "display_data"
    }
   ],
   "source": [
    "lin_deqs = Matrix([Eq(X1.diff(t),dx1.diff(X1).subs(stst)*(X1-1) + dx1.diff(X2).subs(stst)*(X2-1) + dx1.diff(X3).subs(stst)*(X3-1) + dx1.diff(M1).subs(stst)*(M1-1) + dx1.diff(M2).subs(stst)*(M2-1)),\n",
    "                   Eq(X2.diff(t),dx2.diff(X1).subs(stst)*(X1-1) + dx2.diff(X2).subs(stst)*(X2-1) + dx2.diff(X3).subs(stst)*(X3-1) + dx2.diff(M1).subs(stst)*(M1-1) + dx2.diff(M2).subs(stst)*(M2-1)),\n",
    "                   Eq(X3.diff(t),dx3.diff(X1).subs(stst)*(X1-1) + dx3.diff(X2).subs(stst)*(X2-1) + dx3.diff(X3).subs(stst)*(X3-1) + dx3.diff(M1).subs(stst)*(M1-1) + dx3.diff(M2).subs(stst)*(M2-1)),\n",
    "                   Eq(M1.diff(t),dm1.diff(X1).subs(stst)*(X1-1) + dm1.diff(X2).subs(stst)*(X2-1) + dm1.diff(X3).subs(stst)*(X3-1) + dm1.diff(M1).subs(stst)*(M1-1) + dm1.diff(M2).subs(stst)*(M2-1)),\n",
    "                   Eq(M2.diff(t),dm2.diff(X1).subs(stst)*(X1-1) + dm2.diff(X2).subs(stst)*(X2-1) + dm2.diff(X3).subs(stst)*(X3-1) + dm2.diff(M1).subs(stst)*(M1-1) + dm2.diff(M2).subs(stst)*(M2-1))]).subs(simp)\n",
    "                \n",
    "display(lin_deqs)"
   ]
  },
  {
   "cell_type": "code",
   "execution_count": 15,
   "id": "85130004",
   "metadata": {},
   "outputs": [
    {
     "data": {
      "text/latex": [
       "$\\displaystyle \\left[\\begin{matrix}\\frac{d}{d t} \\left(\\operatorname{y_{1}}{\\left(t \\right)} + 1\\right) = - b_{1} \\operatorname{y_{1}}{\\left(t \\right)} - b_{1} \\operatorname{y_{3}}{\\left(t \\right)}\\\\\\frac{d}{d t} \\left(\\operatorname{y_{2}}{\\left(t \\right)} + 1\\right) = b_{2} \\operatorname{Z_{1}}{\\left(t \\right)} + b_{2} \\operatorname{y_{1}}{\\left(t \\right)} - b_{2} \\operatorname{y_{2}}{\\left(t \\right)} - b_{2} \\operatorname{y_{3}}{\\left(t \\right)}\\\\\\frac{d}{d t} \\left(\\operatorname{y_{3}}{\\left(t \\right)} + 1\\right) = b_{3} \\operatorname{Z_{2}}{\\left(t \\right)} + b_{3} \\operatorname{y_{2}}{\\left(t \\right)} - b_{3} \\operatorname{y_{3}}{\\left(t \\right)}\\\\\\frac{d}{d t} \\left(\\operatorname{Z_{1}}{\\left(t \\right)} + 1\\right) = - a_{P} \\operatorname{y_{3}}{\\left(t \\right)}\\\\\\frac{d}{d t} \\left(\\operatorname{Z_{2}}{\\left(t \\right)} + 1\\right) = a_{T} \\operatorname{y_{2}}{\\left(t \\right)}\\end{matrix}\\right]$"
      ],
      "text/plain": [
       "⎡          d                                              ⎤\n",
       "⎢          ──(y₁(t) + 1) = -b₁⋅y₁(t) - b₁⋅y₃(t)           ⎥\n",
       "⎢          dt                                             ⎥\n",
       "⎢                                                         ⎥\n",
       "⎢d                                                        ⎥\n",
       "⎢──(y₂(t) + 1) = b₂⋅Z₁(t) + b₂⋅y₁(t) - b₂⋅y₂(t) - b₂⋅y₃(t)⎥\n",
       "⎢dt                                                       ⎥\n",
       "⎢                                                         ⎥\n",
       "⎢     d                                                   ⎥\n",
       "⎢     ──(y₃(t) + 1) = b₃⋅Z₂(t) + b₃⋅y₂(t) - b₃⋅y₃(t)      ⎥\n",
       "⎢     dt                                                  ⎥\n",
       "⎢                                                         ⎥\n",
       "⎢               d                                         ⎥\n",
       "⎢               ──(Z₁(t) + 1) = -a_P⋅y₃(t)                ⎥\n",
       "⎢               dt                                        ⎥\n",
       "⎢                                                         ⎥\n",
       "⎢                d                                        ⎥\n",
       "⎢                ──(Z₂(t) + 1) = a_T⋅y₂(t)                ⎥\n",
       "⎣                dt                                       ⎦"
      ]
     },
     "metadata": {},
     "output_type": "display_data"
    }
   ],
   "source": [
    "Y1       = Function('y_1')(t)\n",
    "Y2       = Function('y_2')(t)\n",
    "Y3       = Function('y_3')(t)\n",
    "Z1       = Function('Z_1')(t)\n",
    "Z2       = Function('Z_2')(t)\n",
    "\n",
    "lin_subs = {X1:Y1+1,X2:Y2+1,X3:Y3+1,M1:Z1+1,M2:Z2+1}\n",
    "lin_deqs = lin_deqs.subs(lin_subs)\n",
    "display(lin_deqs)"
   ]
  },
  {
   "cell_type": "code",
   "execution_count": 16,
   "id": "0d20415c",
   "metadata": {},
   "outputs": [
    {
     "data": {
      "image/png": "[encoded data removed]",
      "text/latex": [
       "$\\displaystyle \\left\\{ \\operatorname{y_{1}}{\\left(t \\right)} : - \\frac{\\operatorname{Z_{1}}{\\left(t \\right)}}{3} - \\frac{\\operatorname{Z_{2}}{\\left(t \\right)}}{3}, \\  \\operatorname{y_{2}}{\\left(t \\right)} : \\frac{\\operatorname{Z_{1}}{\\left(t \\right)}}{3} - \\frac{2 \\operatorname{Z_{2}}{\\left(t \\right)}}{3}, \\  \\operatorname{y_{3}}{\\left(t \\right)} : \\frac{\\operatorname{Z_{1}}{\\left(t \\right)}}{3} + \\frac{\\operatorname{Z_{2}}{\\left(t \\right)}}{3}\\right\\}$"
      ],
      "text/plain": [
       "⎧         Z₁(t)   Z₂(t)         Z₁(t)   2⋅Z₂(t)         Z₁(t)   Z₂(t)⎫\n",
       "⎨y₁(t): - ───── - ─────, y₂(t): ───── - ───────, y₃(t): ───── + ─────⎬\n",
       "⎩           3       3             3        3              3       3  ⎭"
      ]
     },
     "metadata": {},
     "output_type": "display_data"
    }
   ],
   "source": [
    "qst  = solve([lin_deqs[0].args[1],lin_deqs[1].args[1],lin_deqs[2].args[1]],[Y1,Y2,Y3])\n",
    "display(qst)"
   ]
  },
  {
   "cell_type": "code",
   "execution_count": 17,
   "id": "a98b784c",
   "metadata": {},
   "outputs": [
    {
     "data": {
      "text/latex": [
       "$\\displaystyle \\left[\\begin{matrix}\\frac{d}{d t} \\operatorname{Z_{1}}{\\left(t \\right)} = - a_{P} \\left(\\frac{\\operatorname{Z_{1}}{\\left(t \\right)}}{3} + \\frac{\\operatorname{Z_{2}}{\\left(t \\right)}}{3}\\right)\\\\\\frac{d}{d t} \\operatorname{Z_{2}}{\\left(t \\right)} = a_{T} \\left(\\frac{\\operatorname{Z_{1}}{\\left(t \\right)}}{3} - \\frac{2 \\operatorname{Z_{2}}{\\left(t \\right)}}{3}\\right)\\end{matrix}\\right]$"
      ],
      "text/plain": [
       "⎡d                ⎛Z₁(t)   Z₂(t)⎞ ⎤\n",
       "⎢──(Z₁(t)) = -a_P⋅⎜───── + ─────⎟ ⎥\n",
       "⎢dt               ⎝  3       3  ⎠ ⎥\n",
       "⎢                                 ⎥\n",
       "⎢d               ⎛Z₁(t)   2⋅Z₂(t)⎞⎥\n",
       "⎢──(Z₂(t)) = a_T⋅⎜───── - ───────⎟⎥\n",
       "⎣dt              ⎝  3        3   ⎠⎦"
      ]
     },
     "metadata": {},
     "output_type": "display_data"
    }
   ],
   "source": [
    "zdeqs = Matrix([Eq(Z1.diff(t),lin_deqs[3].args[1].subs(qst)),\n",
    "               Eq(Z2.diff(t),lin_deqs[4].args[1].subs(qst))])\n",
    "display(zdeqs)"
   ]
  },
  {
   "cell_type": "code",
   "execution_count": 18,
   "id": "aedbd3e8",
   "metadata": {},
   "outputs": [
    {
     "data": {
      "text/latex": [
       "$\\displaystyle \\left[\\begin{matrix}- \\frac{a_{P}}{3} & - \\frac{a_{P}}{3}\\\\\\frac{a_{T}}{3} & - \\frac{2 a_{T}}{3}\\end{matrix}\\right]$"
      ],
      "text/plain": [
       "⎡-a_P    -a_P  ⎤\n",
       "⎢─────   ───── ⎥\n",
       "⎢  3       3   ⎥\n",
       "⎢              ⎥\n",
       "⎢ a_T   -2⋅a_T ⎥\n",
       "⎢ ───   ───────⎥\n",
       "⎣  3       3   ⎦"
      ]
     },
     "metadata": {},
     "output_type": "display_data"
    }
   ],
   "source": [
    "M = Matrix([lin_deqs[3].args[1].subs(qst),lin_deqs[4].args[1].subs(qst)])\n",
    "J = M.jacobian([Z1,Z2])\n",
    "display(J)"
   ]
  },
  {
   "cell_type": "code",
   "execution_count": 19,
   "id": "f4b6b388",
   "metadata": {
    "scrolled": true
   },
   "outputs": [],
   "source": [
    "Z10,Z20   = symbols('Z_{1_0},Z_{2_0}')\n",
    "ICS       = {Z1.subs(t,0):Z10,Z2.subs(t,0):Z20}\n",
    "lin_zsols = Matrix(dsolve(zdeqs,ics=ICS))\n",
    "zsubs     = {Z1:lin_zsols[0].args[1],Z2:lin_zsols[1].args[1]}\n",
    "lin_sols  = Matrix([Eq(Y1,qst[Y1].subs(zsubs).trigsimp()),\n",
    "                   Eq(Y2,qst[Y2].subs(zsubs).trigsimp()),\n",
    "                   Eq(Y3,qst[Y3].subs(zsubs).trigsimp()),\n",
    "                   Eq(Z1,lin_zsols[0].args[1].trigsimp()),\n",
    "                   Eq(Z2,lin_zsols[1].args[1].trigsimp())])"
   ]
  },
  {
   "cell_type": "code",
   "execution_count": null,
   "id": "c0316cfa",
   "metadata": {},
   "outputs": [],
   "source": [
    "A = symbols('A')\n",
    "simp_subs = {sqrt(a_p**2 - 8*a_p*a_t+ 4*a_t**2):A}\n",
    "display(Eq(A,sqrt(a_p**2 - 8*a_p*a_t+ 4*a_t**2)))\n",
    "display(lin_sols.subs(simp_subs))"
   ]
  }
 ],
 "metadata": {
  "kernelspec": {
   "display_name": "Python 3 (ipykernel)",
   "language": "python",
   "name": "python3"
  },
  "language_info": {
   "codemirror_mode": {
    "name": "ipython",
    "version": 3
   },
   "file_extension": ".py",
   "mimetype": "text/x-python",
   "name": "python",
   "nbconvert_exporter": "python",
   "pygments_lexer": "ipython3",
   "version": "3.7.11"
  }
 },
 "nbformat": 4,
 "nbformat_minor": 5
}
